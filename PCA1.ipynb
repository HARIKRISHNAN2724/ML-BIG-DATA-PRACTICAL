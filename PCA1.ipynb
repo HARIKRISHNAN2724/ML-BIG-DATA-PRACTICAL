{
 "cells": [
  {
   "cell_type": "code",
   "execution_count": 3,
   "id": "bda92cfe",
   "metadata": {},
   "outputs": [],
   "source": [
    "import seaborn as sns\n",
    "import pandas as pd\n",
    "import numpy as np\n",
    "from sklearn.decomposition import PCA\n",
    "from sklearn.preprocessing import StandardScaler\n",
    "from sklearn.datasets import load_wine"
   ]
  },
  {
   "cell_type": "code",
   "execution_count": 4,
   "id": "868ed8ac",
   "metadata": {},
   "outputs": [
    {
     "data": {
      "text/html": [
       "<div>\n",
       "<style scoped>\n",
       "    .dataframe tbody tr th:only-of-type {\n",
       "        vertical-align: middle;\n",
       "    }\n",
       "\n",
       "    .dataframe tbody tr th {\n",
       "        vertical-align: top;\n",
       "    }\n",
       "\n",
       "    .dataframe thead tr th {\n",
       "        text-align: left;\n",
       "    }\n",
       "</style>\n",
       "<table border=\"1\" class=\"dataframe\">\n",
       "  <thead>\n",
       "    <tr>\n",
       "      <th></th>\n",
       "      <th>alcohol</th>\n",
       "      <th>malic_acid</th>\n",
       "      <th>ash</th>\n",
       "      <th>alcalinity_of_ash</th>\n",
       "      <th>magnesium</th>\n",
       "      <th>total_phenols</th>\n",
       "      <th>flavanoids</th>\n",
       "      <th>nonflavanoid_phenols</th>\n",
       "      <th>proanthocyanins</th>\n",
       "      <th>color_intensity</th>\n",
       "      <th>hue</th>\n",
       "      <th>od280/od315_of_diluted_wines</th>\n",
       "      <th>proline</th>\n",
       "    </tr>\n",
       "  </thead>\n",
       "  <tbody>\n",
       "    <tr>\n",
       "      <th>0</th>\n",
       "      <td>14.23</td>\n",
       "      <td>1.71</td>\n",
       "      <td>2.43</td>\n",
       "      <td>15.6</td>\n",
       "      <td>127.0</td>\n",
       "      <td>2.80</td>\n",
       "      <td>3.06</td>\n",
       "      <td>0.28</td>\n",
       "      <td>2.29</td>\n",
       "      <td>5.64</td>\n",
       "      <td>1.04</td>\n",
       "      <td>3.92</td>\n",
       "      <td>1065.0</td>\n",
       "    </tr>\n",
       "    <tr>\n",
       "      <th>1</th>\n",
       "      <td>13.20</td>\n",
       "      <td>1.78</td>\n",
       "      <td>2.14</td>\n",
       "      <td>11.2</td>\n",
       "      <td>100.0</td>\n",
       "      <td>2.65</td>\n",
       "      <td>2.76</td>\n",
       "      <td>0.26</td>\n",
       "      <td>1.28</td>\n",
       "      <td>4.38</td>\n",
       "      <td>1.05</td>\n",
       "      <td>3.40</td>\n",
       "      <td>1050.0</td>\n",
       "    </tr>\n",
       "    <tr>\n",
       "      <th>2</th>\n",
       "      <td>13.16</td>\n",
       "      <td>2.36</td>\n",
       "      <td>2.67</td>\n",
       "      <td>18.6</td>\n",
       "      <td>101.0</td>\n",
       "      <td>2.80</td>\n",
       "      <td>3.24</td>\n",
       "      <td>0.30</td>\n",
       "      <td>2.81</td>\n",
       "      <td>5.68</td>\n",
       "      <td>1.03</td>\n",
       "      <td>3.17</td>\n",
       "      <td>1185.0</td>\n",
       "    </tr>\n",
       "    <tr>\n",
       "      <th>3</th>\n",
       "      <td>14.37</td>\n",
       "      <td>1.95</td>\n",
       "      <td>2.50</td>\n",
       "      <td>16.8</td>\n",
       "      <td>113.0</td>\n",
       "      <td>3.85</td>\n",
       "      <td>3.49</td>\n",
       "      <td>0.24</td>\n",
       "      <td>2.18</td>\n",
       "      <td>7.80</td>\n",
       "      <td>0.86</td>\n",
       "      <td>3.45</td>\n",
       "      <td>1480.0</td>\n",
       "    </tr>\n",
       "    <tr>\n",
       "      <th>4</th>\n",
       "      <td>13.24</td>\n",
       "      <td>2.59</td>\n",
       "      <td>2.87</td>\n",
       "      <td>21.0</td>\n",
       "      <td>118.0</td>\n",
       "      <td>2.80</td>\n",
       "      <td>2.69</td>\n",
       "      <td>0.39</td>\n",
       "      <td>1.82</td>\n",
       "      <td>4.32</td>\n",
       "      <td>1.04</td>\n",
       "      <td>2.93</td>\n",
       "      <td>735.0</td>\n",
       "    </tr>\n",
       "  </tbody>\n",
       "</table>\n",
       "</div>"
      ],
      "text/plain": [
       "  alcohol malic_acid   ash alcalinity_of_ash magnesium total_phenols  \\\n",
       "0   14.23       1.71  2.43              15.6     127.0          2.80   \n",
       "1   13.20       1.78  2.14              11.2     100.0          2.65   \n",
       "2   13.16       2.36  2.67              18.6     101.0          2.80   \n",
       "3   14.37       1.95  2.50              16.8     113.0          3.85   \n",
       "4   13.24       2.59  2.87              21.0     118.0          2.80   \n",
       "\n",
       "  flavanoids nonflavanoid_phenols proanthocyanins color_intensity   hue  \\\n",
       "0       3.06                 0.28            2.29            5.64  1.04   \n",
       "1       2.76                 0.26            1.28            4.38  1.05   \n",
       "2       3.24                 0.30            2.81            5.68  1.03   \n",
       "3       3.49                 0.24            2.18            7.80  0.86   \n",
       "4       2.69                 0.39            1.82            4.32  1.04   \n",
       "\n",
       "  od280/od315_of_diluted_wines proline  \n",
       "0                         3.92  1065.0  \n",
       "1                         3.40  1050.0  \n",
       "2                         3.17  1185.0  \n",
       "3                         3.45  1480.0  \n",
       "4                         2.93   735.0  "
      ]
     },
     "execution_count": 4,
     "metadata": {},
     "output_type": "execute_result"
    }
   ],
   "source": [
    "Data = load_wine()\n",
    "df_wine=pd.DataFrame(Data['data'],columns=[Data['feature_names']])\n",
    "df_wine.head()"
   ]
  },
  {
   "cell_type": "code",
   "execution_count": 6,
   "id": "f994dd3f",
   "metadata": {},
   "outputs": [
    {
     "data": {
      "text/plain": [
       "(178, 13)"
      ]
     },
     "execution_count": 6,
     "metadata": {},
     "output_type": "execute_result"
    }
   ],
   "source": [
    "# SHAPE OF ORGINAL DATA.\n",
    "df_wine.shape"
   ]
  },
  {
   "cell_type": "code",
   "execution_count": 7,
   "id": "93571710",
   "metadata": {},
   "outputs": [
    {
     "name": "stderr",
     "output_type": "stream",
     "text": [
      "C:\\Users\\harikrishnan ns\\anaconda3\\lib\\site-packages\\sklearn\\utils\\validation.py:1688: FutureWarning: Feature names only support names that are all strings. Got feature names with dtypes: ['tuple']. An error will be raised in 1.2.\n",
      "  warnings.warn(\n"
     ]
    },
    {
     "data": {
      "text/plain": [
       "PCA(n_components=1)"
      ]
     },
     "execution_count": 7,
     "metadata": {},
     "output_type": "execute_result"
    }
   ],
   "source": [
    "#PCA\n",
    "model = PCA(n_components=1)\n",
    "model.fit(df_wine)"
   ]
  },
  {
   "cell_type": "code",
   "execution_count": 8,
   "id": "01a45c01",
   "metadata": {},
   "outputs": [
    {
     "name": "stderr",
     "output_type": "stream",
     "text": [
      "C:\\Users\\harikrishnan ns\\anaconda3\\lib\\site-packages\\sklearn\\utils\\validation.py:1688: FutureWarning: Feature names only support names that are all strings. Got feature names with dtypes: ['tuple']. An error will be raised in 1.2.\n",
      "  warnings.warn(\n"
     ]
    },
    {
     "data": {
      "text/plain": [
       "array([[ 318.56297929],\n",
       "       [ 303.09741966],\n",
       "       [ 438.06113292],\n",
       "       [ 733.24013935],\n",
       "       [ -11.5714285 ],\n",
       "       [ 703.23119174],\n",
       "       [ 542.97158087],\n",
       "       [ 548.40185984],\n",
       "       [ 298.0368628 ],\n",
       "       [ 298.04955314],\n",
       "       [ 763.07971194],\n",
       "       [ 532.94322773],\n",
       "       [ 572.83441039],\n",
       "       [ 402.92535829],\n",
       "       [ 800.05339386],\n",
       "       [ 563.245578  ],\n",
       "       [ 533.37965064],\n",
       "       [ 383.31759108],\n",
       "       [ 933.1183875 ],\n",
       "       [  98.40317748],\n",
       "       [  33.593594  ],\n",
       "       [  23.14643754],\n",
       "       [ 288.09303022],\n",
       "       [ 267.98151253],\n",
       "       [  98.01988577],\n",
       "       [  83.49874396],\n",
       "       [ 447.92559622],\n",
       "       [ 537.91916502],\n",
       "       [ 168.2104676 ],\n",
       "       [ 288.00824708],\n",
       "       [ 538.0264521 ],\n",
       "       [ 768.09293886],\n",
       "       [ 243.1507509 ],\n",
       "       [ 488.60128005],\n",
       "       [ 348.231007  ],\n",
       "       [ 173.07995743],\n",
       "       [ 133.28642355],\n",
       "       [ 358.01855918],\n",
       "       [ 273.04443152],\n",
       "       [  13.64300211],\n",
       "       [  48.42964225],\n",
       "       [ 287.88409217],\n",
       "       [ 348.09534818],\n",
       "       [ -66.81465539],\n",
       "       [ 138.22700988],\n",
       "       [ 333.25480583],\n",
       "       [ 318.11184847],\n",
       "       [ 238.11148508],\n",
       "       [ 313.11991539],\n",
       "       [ 513.18774802],\n",
       "       [ 402.93901716],\n",
       "       [ 517.92896327],\n",
       "       [ 443.26641129],\n",
       "       [ 628.28607099],\n",
       "       [ 313.39761268],\n",
       "       [ 373.33329122],\n",
       "       [ 223.41710636],\n",
       "       [ 523.0728514 ],\n",
       "       [ 538.18209732],\n",
       "       [-227.03269045],\n",
       "       [ -66.850122  ],\n",
       "       [-296.82443689],\n",
       "       [-116.97047258],\n",
       "       [-327.0591256 ],\n",
       "       [-391.75248644],\n",
       "       [ -68.90576044],\n",
       "       [-245.21252398],\n",
       "       [-237.24141029],\n",
       "       [   3.29615599],\n",
       "       [ -27.96612073],\n",
       "       [ 123.13013831],\n",
       "       [-337.10412249],\n",
       "       [-275.09602588],\n",
       "       [ 238.71675655],\n",
       "       [ 139.09405664],\n",
       "       [-318.8763289 ],\n",
       "       [-355.06025251],\n",
       "       [-246.63359745],\n",
       "       [   3.77168966],\n",
       "       [-283.84224764],\n",
       "       [-469.05935031],\n",
       "       [ -33.13133925],\n",
       "       [-117.29039201],\n",
       "       [-232.13298838],\n",
       "       [-226.95329942],\n",
       "       [-296.85215173],\n",
       "       [-252.04639193],\n",
       "       [-185.10885737],\n",
       "       [ -67.18075184],\n",
       "       [-122.4313264 ],\n",
       "       [-267.1853332 ],\n",
       "       [-297.10441468],\n",
       "       [-252.21388507],\n",
       "       [-457.02221494],\n",
       "       [-401.85127409],\n",
       "       [ 191.18339677],\n",
       "       [-121.27917775],\n",
       "       [-319.0882728 ],\n",
       "       [ -87.08029256],\n",
       "       [-341.04090017],\n",
       "       [ -36.93161455],\n",
       "       [-185.07371349],\n",
       "       [-308.88238661],\n",
       "       [-332.08929638],\n",
       "       [ -75.15313775],\n",
       "       [-432.00974192],\n",
       "       [-237.20669709],\n",
       "       [-259.14836773],\n",
       "       [-434.95778011],\n",
       "       [ -66.99069577],\n",
       "       [-184.73643853],\n",
       "       [-422.04287362],\n",
       "       [-139.81866316],\n",
       "       [-313.06094816],\n",
       "       [-362.12963311],\n",
       "       [-340.11500621],\n",
       "       [-252.10947206],\n",
       "       [-401.69597348],\n",
       "       [-375.17109237],\n",
       "       [-183.09792918],\n",
       "       [-121.94524135],\n",
       "       [-281.53456912],\n",
       "       [-381.82677823],\n",
       "       [-367.08938005],\n",
       "       [-367.1571747 ],\n",
       "       [-369.10360097],\n",
       "       [-395.07883646],\n",
       "       [-281.03036871],\n",
       "       [-405.0612878 ],\n",
       "       [-167.23764182],\n",
       "       [-116.47300036],\n",
       "       [-216.78453998],\n",
       "       [-186.91511197],\n",
       "       [-146.76952962],\n",
       "       [ -97.1329736 ],\n",
       "       [ -51.98204687],\n",
       "       [ -27.09793075],\n",
       "       [-231.95153407],\n",
       "       [-167.07624576],\n",
       "       [-156.86804454],\n",
       "       [-146.94648958],\n",
       "       [  32.90429275],\n",
       "       [-226.92620969],\n",
       "       [-197.00434749],\n",
       "       [ 108.3126773 ],\n",
       "       [  83.11826261],\n",
       "       [-332.19583999],\n",
       "       [-122.12609209],\n",
       "       [ -97.01938927],\n",
       "       [-196.6248066 ],\n",
       "       [-246.44919923],\n",
       "       [-266.62878805],\n",
       "       [-321.57074094],\n",
       "       [ -71.89765871],\n",
       "       [-106.8166178 ],\n",
       "       [ -22.0202568 ],\n",
       "       [-267.03173231],\n",
       "       [ 132.99984125],\n",
       "       [ -86.91399859],\n",
       "       [-127.06128965],\n",
       "       [-227.06883575],\n",
       "       [ -66.75543118],\n",
       "       [-176.76509843],\n",
       "       [ -71.76839793],\n",
       "       [-132.04824836],\n",
       "       [-227.07784455],\n",
       "       [ -51.68950646],\n",
       "       [ -62.08501112],\n",
       "       [   3.18276465],\n",
       "       [-116.67481805],\n",
       "       [-236.92120794],\n",
       "       [-277.08357826],\n",
       "       [ -87.02740263],\n",
       "       [  -6.98021096],\n",
       "       [   3.13160468],\n",
       "       [  88.45807369],\n",
       "       [  93.45624185],\n",
       "       [-186.94319027]])"
      ]
     },
     "execution_count": 8,
     "metadata": {},
     "output_type": "execute_result"
    }
   ],
   "source": [
    "X_1D = model.transform(df_wine)\n",
    "X_1D"
   ]
  },
  {
   "cell_type": "code",
   "execution_count": 9,
   "id": "72963554",
   "metadata": {},
   "outputs": [
    {
     "data": {
      "text/plain": [
       "(178, 13)"
      ]
     },
     "execution_count": 9,
     "metadata": {},
     "output_type": "execute_result"
    }
   ],
   "source": [
    "df_wine.shape"
   ]
  },
  {
   "cell_type": "code",
   "execution_count": 10,
   "id": "29a75976",
   "metadata": {},
   "outputs": [
    {
     "name": "stdout",
     "output_type": "stream",
     "text": [
      "[99201.78951748]\n"
     ]
    }
   ],
   "source": [
    "#EIGEN VALUE:\n",
    "print(model.explained_variance_)"
   ]
  },
  {
   "cell_type": "code",
   "execution_count": 11,
   "id": "90a71356",
   "metadata": {},
   "outputs": [
    {
     "name": "stdout",
     "output_type": "stream",
     "text": [
      "[[ 1.65926472e-03 -6.81015556e-04  1.94905742e-04 -4.67130058e-03\n",
      "   1.78680075e-02  9.89829680e-04  1.56728830e-03 -1.23086662e-04\n",
      "   6.00607792e-04  2.32714319e-03  1.71380037e-04  7.04931645e-04\n",
      "   9.99822937e-01]]\n"
     ]
    }
   ],
   "source": [
    "#EIGEN VECTORS:\n",
    "print(model.components_)"
   ]
  },
  {
   "cell_type": "code",
   "execution_count": 12,
   "id": "490ebfe3",
   "metadata": {},
   "outputs": [
    {
     "name": "stdout",
     "output_type": "stream",
     "text": [
      "[0.99809123]\n"
     ]
    }
   ],
   "source": [
    "#EIGEN VARIANCE RATIO:\n",
    "print(model.explained_variance_ratio_)"
   ]
  },
  {
   "cell_type": "code",
   "execution_count": null,
   "id": "2a59bf5f",
   "metadata": {},
   "outputs": [],
   "source": []
  }
 ],
 "metadata": {
  "kernelspec": {
   "display_name": "Python 3 (ipykernel)",
   "language": "python",
   "name": "python3"
  },
  "language_info": {
   "codemirror_mode": {
    "name": "ipython",
    "version": 3
   },
   "file_extension": ".py",
   "mimetype": "text/x-python",
   "name": "python",
   "nbconvert_exporter": "python",
   "pygments_lexer": "ipython3",
   "version": "3.9.12"
  }
 },
 "nbformat": 4,
 "nbformat_minor": 5
}
